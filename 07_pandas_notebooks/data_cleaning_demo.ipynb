{
 "metadata": {
  "language_info": {
   "codemirror_mode": {
    "name": "ipython",
    "version": 3
   },
   "file_extension": ".py",
   "mimetype": "text/x-python",
   "name": "python",
   "nbconvert_exporter": "python",
   "pygments_lexer": "ipython3",
   "version": "3.9.1-final"
  },
  "orig_nbformat": 2,
  "kernelspec": {
   "name": "python3",
   "display_name": "Python 3.9.1 64-bit",
   "metadata": {
    "interpreter": {
     "hash": "aee8b7b246df8f9039afb4144a1f6fd8d2ca17a180786b69acc140d282b71a49"
    }
   }
  }
 },
 "nbformat": 4,
 "nbformat_minor": 2,
 "cells": [
  {
   "cell_type": "code",
   "execution_count": 1,
   "metadata": {},
   "outputs": [
    {
     "output_type": "stream",
     "name": "stdout",
     "text": [
      "    Duration          Date  Pulse  Maxpulse  Calories\n0         60  '2020/12/01'    110       130     409.1\n1         60  '2020/12/02'    117       145     479.0\n2         60  '2020/12/03'    103       135     340.0\n3         45  '2020/12/04'    109       175     282.4\n4         45  '2020/12/05'    117       148     406.0\n5         60  '2020/12/06'    102       127     300.0\n6         60  '2020/12/07'    110       136     374.0\n7        450  '2020/12/08'    104       134     253.3\n8         30  '2020/12/09'    109       133     195.1\n9         60  '2020/12/10'     98       124     269.0\n10        60  '2020/12/11'    103       147     329.3\n11        60  '2020/12/12'    100       120     250.7\n12        60  '2020/12/12'    100       120     250.7\n13        60  '2020/12/13'    106       128     345.3\n14        60  '2020/12/14'    104       132     379.3\n15        60  '2020/12/15'     98       123     275.0\n16        60  '2020/12/16'     98       120     215.2\n17        60  '2020/12/17'    100       120     300.0\n18        45  '2020/12/18'     90       112       NaN\n19        60  '2020/12/19'    103       123     323.0\n20        45  '2020/12/20'     97       125     243.0\n21        60  '2020/12/21'    108       131     364.2\n22        45           NaN    100       119     282.0\n23        60  '2020/12/23'    130       101     300.0\n24        45  '2020/12/24'    105       132     246.0\n25        60  '2020/12/25'    102       126     334.5\n26        60      20201226    100       120     250.0\n27        60  '2020/12/27'     92       118     241.0\n28        60  '2020/12/28'    103       132       NaN\n29        60  '2020/12/29'    100       132     280.0\n30        60  '2020/12/30'    102       129     380.3\n31        60  '2020/12/31'     92       115     243.0\n"
     ]
    }
   ],
   "source": [
    "import pandas as pd\n",
    "df = pd.read_csv(\"/Users/jimmy/Code/VSCodeEMN_2021_Practicals/07_pandas_notebooks/dirtydata.csv\")\n",
    "print(df)"
   ]
  },
  {
   "cell_type": "code",
   "execution_count": 2,
   "metadata": {},
   "outputs": [
    {
     "output_type": "stream",
     "name": "stdout",
     "text": [
      "<class 'pandas.core.frame.DataFrame'>\nRangeIndex: 32 entries, 0 to 31\nData columns (total 5 columns):\n #   Column    Non-Null Count  Dtype  \n---  ------    --------------  -----  \n 0   Duration  32 non-null     int64  \n 1   Date      31 non-null     object \n 2   Pulse     32 non-null     int64  \n 3   Maxpulse  32 non-null     int64  \n 4   Calories  30 non-null     float64\ndtypes: float64(1), int64(3), object(1)\nmemory usage: 1.4+ KB\nNone\n"
     ]
    }
   ],
   "source": [
    "print(df.info())"
   ]
  },
  {
   "cell_type": "code",
   "execution_count": 3,
   "metadata": {},
   "outputs": [
    {
     "output_type": "stream",
     "name": "stdout",
     "text": [
      "    Duration          Date  Pulse  Maxpulse  Calories\n0         60  '2020/12/01'    110       130     409.1\n1         60  '2020/12/02'    117       145     479.0\n2         60  '2020/12/03'    103       135     340.0\n3         45  '2020/12/04'    109       175     282.4\n4         45  '2020/12/05'    117       148     406.0\n5         60  '2020/12/06'    102       127     300.0\n6         60  '2020/12/07'    110       136     374.0\n7        450  '2020/12/08'    104       134     253.3\n8         30  '2020/12/09'    109       133     195.1\n9         60  '2020/12/10'     98       124     269.0\n10        60  '2020/12/11'    103       147     329.3\n11        60  '2020/12/12'    100       120     250.7\n12        60  '2020/12/12'    100       120     250.7\n13        60  '2020/12/13'    106       128     345.3\n14        60  '2020/12/14'    104       132     379.3\n15        60  '2020/12/15'     98       123     275.0\n16        60  '2020/12/16'     98       120     215.2\n17        60  '2020/12/17'    100       120     300.0\n19        60  '2020/12/19'    103       123     323.0\n20        45  '2020/12/20'     97       125     243.0\n21        60  '2020/12/21'    108       131     364.2\n23        60  '2020/12/23'    130       101     300.0\n24        45  '2020/12/24'    105       132     246.0\n25        60  '2020/12/25'    102       126     334.5\n26        60      20201226    100       120     250.0\n27        60  '2020/12/27'     92       118     241.0\n29        60  '2020/12/29'    100       132     280.0\n30        60  '2020/12/30'    102       129     380.3\n31        60  '2020/12/31'     92       115     243.0\n"
     ]
    }
   ],
   "source": [
    "df_without_null_values = df.dropna()\n",
    "print(df_without_null_values)"
   ]
  },
  {
   "cell_type": "code",
   "execution_count": 4,
   "metadata": {},
   "outputs": [
    {
     "output_type": "stream",
     "name": "stdout",
     "text": [
      "    Duration          Date  Pulse  Maxpulse  Calories\n0         60  '2020/12/01'    110       130     409.1\n1         60  '2020/12/02'    117       145     479.0\n2         60  '2020/12/03'    103       135     340.0\n3         45  '2020/12/04'    109       175     282.4\n4         45  '2020/12/05'    117       148     406.0\n5         60  '2020/12/06'    102       127     300.0\n6         60  '2020/12/07'    110       136     374.0\n7        450  '2020/12/08'    104       134     253.3\n8         30  '2020/12/09'    109       133     195.1\n9         60  '2020/12/10'     98       124     269.0\n10        60  '2020/12/11'    103       147     329.3\n11        60  '2020/12/12'    100       120     250.7\n12        60  '2020/12/12'    100       120     250.7\n13        60  '2020/12/13'    106       128     345.3\n14        60  '2020/12/14'    104       132     379.3\n15        60  '2020/12/15'     98       123     275.0\n16        60  '2020/12/16'     98       120     215.2\n17        60  '2020/12/17'    100       120     300.0\n18        45  '2020/12/18'     90       112     130.0\n19        60  '2020/12/19'    103       123     323.0\n20        45  '2020/12/20'     97       125     243.0\n21        60  '2020/12/21'    108       131     364.2\n22        45           130    100       119     282.0\n23        60  '2020/12/23'    130       101     300.0\n24        45  '2020/12/24'    105       132     246.0\n25        60  '2020/12/25'    102       126     334.5\n26        60      20201226    100       120     250.0\n27        60  '2020/12/27'     92       118     241.0\n28        60  '2020/12/28'    103       132     130.0\n29        60  '2020/12/29'    100       132     280.0\n30        60  '2020/12/30'    102       129     380.3\n31        60  '2020/12/31'     92       115     243.0\n"
     ]
    }
   ],
   "source": [
    "df_with_replaced_values = df.fillna(130)\n",
    "print(df_with_replaced_values)"
   ]
  },
  {
   "cell_type": "code",
   "execution_count": 5,
   "metadata": {},
   "outputs": [
    {
     "output_type": "stream",
     "name": "stdout",
     "text": [
      "0     409.1\n1     479.0\n2     340.0\n3     282.4\n4     406.0\n5     300.0\n6     374.0\n7     253.3\n8     195.1\n9     269.0\n10    329.3\n11    250.7\n12    250.7\n13    345.3\n14    379.3\n15    275.0\n16    215.2\n17    300.0\n18      NaN\n19    323.0\n20    243.0\n21    364.2\n22    282.0\n23    300.0\n24    246.0\n25    334.5\n26    250.0\n27    241.0\n28      NaN\n29    280.0\n30    380.3\n31    243.0\nName: Calories, dtype: float64\n"
     ]
    }
   ],
   "source": [
    "print(df[\"Calories\"])"
   ]
  },
  {
   "cell_type": "code",
   "execution_count": 6,
   "metadata": {},
   "outputs": [
    {
     "output_type": "stream",
     "name": "stdout",
     "text": [
      "<class 'pandas.core.series.Series'>\n"
     ]
    }
   ],
   "source": [
    "print(type(df[\"Calories\"]))"
   ]
  },
  {
   "cell_type": "code",
   "execution_count": null,
   "metadata": {},
   "outputs": [],
   "source": []
  }
 ]
}